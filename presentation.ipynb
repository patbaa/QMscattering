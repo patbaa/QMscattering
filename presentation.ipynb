{
 "cells": [
  {
   "cell_type": "markdown",
   "metadata": {
    "deletable": true,
    "editable": true,
    "slideshow": {
     "slide_type": "slide"
    }
   },
   "source": [
    "<center><h1>Modeling quantum scattering from various potential walls</h1></center>\n",
    "\n",
    "<br><br><br><br><br><br>\n",
    "\n",
    "<center><h4>Bálint Ármin Pataki</h4></center>\n",
    "<center><h6>Eötvös Loránd University</h6></center>"
   ]
  },
  {
   "cell_type": "markdown",
   "metadata": {
    "deletable": true,
    "editable": true,
    "slideshow": {
     "slide_type": "slide"
    }
   },
   "source": [
    "# Agenda\n",
    "\n",
    "`1`. **About the problem**  \n",
    "`2`. **The used analytical workaround**    \n",
    "`3`. **The coding part**  \n",
    "`4`. **Results**"
   ]
  },
  {
   "cell_type": "markdown",
   "metadata": {
    "collapsed": false,
    "deletable": true,
    "editable": true,
    "slideshow": {
     "slide_type": "slide"
    }
   },
   "source": [
    "# Presentation of the problem\n",
    "<br><br><br>\n",
    "<figure>\n",
    "  <img src=\"plots/problem.png\">\n",
    "  <figcaption>Figure from J. Cserti's project description</figcaption>\n",
    "</figure>"
   ]
  },
  {
   "cell_type": "markdown",
   "metadata": {
    "deletable": true,
    "editable": true,
    "slideshow": {
     "slide_type": "slide"
    }
   },
   "source": [
    "# The physics & math behind it I."
   ]
  },
  {
   "cell_type": "markdown",
   "metadata": {
    "collapsed": true,
    "deletable": true,
    "editable": true,
    "slideshow": {
     "slide_type": "fragment"
    }
   },
   "source": [
    "Goal is to solve the time evolution of an initial wave function:\n",
    "$$ \\left| \\psi (t)\\right\\rangle =e^{-iHt }\\left|\\psi (0)\\right\\rangle  $$"
   ]
  },
  {
   "cell_type": "markdown",
   "metadata": {
    "deletable": true,
    "editable": true,
    "slideshow": {
     "slide_type": "fragment"
    }
   },
   "source": [
    "As the eigenstates are a complete set:  \n",
    "$$ \\left| \\psi (t)\\right\\rangle = \\sum_n \\left| n \\right\\rangle \\left\\langle n | \\psi (t) \\right\\rangle = e^{-iHt } \\sum_n \\left| n \\right\\rangle \\left\\langle n | \\psi (0) \\right\\rangle $$"
   ]
  },
  {
   "cell_type": "markdown",
   "metadata": {
    "deletable": true,
    "editable": true,
    "slideshow": {
     "slide_type": "fragment"
    }
   },
   "source": [
    "$$ \\left| \\psi (t)\\right\\rangle =\\sum_n e^{-iE_nt }  \\left| n \\right\\rangle \\left\\langle n | \\psi (0) \\right\\rangle $$"
   ]
  },
  {
   "cell_type": "markdown",
   "metadata": {
    "collapsed": true,
    "deletable": true,
    "editable": true,
    "slideshow": {
     "slide_type": "fragment"
    }
   },
   "source": [
    "Define:\n",
    "$$ ||H|| = max\\{|E_n|\\}$$"
   ]
  },
  {
   "cell_type": "markdown",
   "metadata": {
    "deletable": true,
    "editable": true,
    "slideshow": {
     "slide_type": "slide"
    }
   },
   "source": [
    "# The physics & math behind it II.\n",
    "\n",
    "New variables:\n",
    "$$\\hat{E}_n = \\frac{E_n}{||H||}$$\n",
    "\n",
    "$$\\hat{t} = t \\cdot ||H|| $$\n",
    "\n",
    "$$\\hat{H} = \\frac{H}{||H||} $$\n",
    "\n",
    "obviously\n",
    "\n",
    "$$\\hat{H} \\left| E_n \\right\\rangle = \\hat{E}_n \\left| E_n \\right\\rangle $$"
   ]
  },
  {
   "cell_type": "markdown",
   "metadata": {
    "deletable": true,
    "editable": true,
    "slideshow": {
     "slide_type": "fragment"
    }
   },
   "source": [
    "The benefits:\n",
    "\n",
    "$$ \\left| \\psi (t)\\right\\rangle =\\sum_n e^{-i\\hat{E}_n\\hat{t} }  \\left| n \\right\\rangle \\left\\langle n | \\psi (0) \\right\\rangle $$\n",
    "\n",
    "where $\\hat{E}_n \\in [-1, 1]$"
   ]
  },
  {
   "cell_type": "markdown",
   "metadata": {
    "deletable": true,
    "editable": true,
    "slideshow": {
     "slide_type": "slide"
    }
   },
   "source": [
    "# The physics & math behind it III.\n",
    "\n",
    "$$e^{-ixz} = J_0(z) + 2 \\sum_{m=1}^\\infty (-i)^mJ_m(z)T_m(x)$$\n",
    "\n",
    "$J_m(y)$ is the $m^{th}$ order Bessel function  \n",
    "$T_{m}(y)={\\begin{cases}\\cos(m\\arccos y)&|y|\\leq 1\\\\{\\tfrac {1}{2}}\\left(\\left(y-{\\sqrt {y^{2}-1}}\\right)^{m}+\\left(y+{\\sqrt {y^{2}-1}}\\right)^{m}\\right)&|y|\\geq 1\\\\\\end{cases}}$ is the $m^{th}$ Chebyshev polinomial\n",
    "\n",
    "if $x \\in [-1, 1]$"
   ]
  },
  {
   "cell_type": "markdown",
   "metadata": {
    "collapsed": true,
    "deletable": true,
    "editable": true,
    "slideshow": {
     "slide_type": "fragment"
    }
   },
   "source": [
    "$$e^{-i\\hat{H}\\hat{t}} = J_0(\\hat{t})\\hat{T}_0(\\hat{H}) + 2 \\sum_{m=1}^\\infty J_m(\\hat{t})\\hat{T}_m(\\hat{H})$$\n",
    "where\n",
    "$$ \\hat{T}_m = (-i)^m T_m $$"
   ]
  },
  {
   "cell_type": "markdown",
   "metadata": {
    "collapsed": true,
    "deletable": true,
    "editable": true,
    "slideshow": {
     "slide_type": "slide"
    }
   },
   "source": [
    "# The physics & math behind it IV.\n",
    "\n",
    "Chebyshev's reccurence relation:\n",
    "$$ T_{m+1}(x) + T_{m-1}(x) = 2xT_m(x) $$"
   ]
  },
  {
   "cell_type": "markdown",
   "metadata": {
    "collapsed": true,
    "deletable": true,
    "editable": true,
    "slideshow": {
     "slide_type": "fragment"
    }
   },
   "source": [
    "Using it for our case:\n",
    "\n",
    "$$ \\hat{T}_{m+1}(\\hat{H}) \\left| \\psi \\right\\rangle = -2i\\hat{H}\\hat{T}_m(\\hat{H})\\left| \\psi \\right\\rangle + \\hat{T}_{m-1}(\\hat{H}) \\left| \\psi \\right\\rangle$$"
   ]
  },
  {
   "cell_type": "markdown",
   "metadata": {
    "deletable": true,
    "editable": true,
    "slideshow": {
     "slide_type": "fragment"
    }
   },
   "source": [
    "Starting with \n",
    "$$ \\hat{T}_0(\\hat{H}) \\left| \\psi \\right\\rangle = I \\left| \\psi \\right\\rangle$$\n",
    "$$ \\hat{T}_1(\\hat{H}) \\left| \\psi \\right\\rangle = -i\\hat{H} \\left| \\psi \\right\\rangle$$"
   ]
  },
  {
   "cell_type": "markdown",
   "metadata": {
    "deletable": true,
    "editable": true,
    "slideshow": {
     "slide_type": "slide"
    }
   },
   "source": [
    "# Equations to solve\n",
    "\n",
    "$$\\left| \\psi (t)\\right\\rangle = \\left[ J_0(\\hat{t})\\hat{T}_0(\\hat{H}) + 2 \\sum_{m=1}^\\infty J_m(\\hat{t})\\hat{T}_m(\\hat{H}) \\right] \\left| \\psi (0)\\right\\rangle$$\n",
    "where \n",
    "\n",
    "$$ \\hat{T}_{m+1}(\\hat{H}) \\left| \\psi \\right\\rangle = -2i\\hat{H}\\hat{T}_m(\\hat{H})\\left| \\psi \\right\\rangle + \\hat{T}_{m-1}(\\hat{H}) \\left| \\psi \\right\\rangle$$\n",
    "\n",
    "and \n",
    "$$ \\hat{T}_0(\\hat{H}) \\left| \\psi \\right\\rangle = I \\left| \\psi \\right\\rangle$$\n",
    "$$ \\hat{T}_1(\\hat{H}) \\left| \\psi \\right\\rangle = -i\\hat{H} \\left| \\psi \\right\\rangle$$"
   ]
  },
  {
   "cell_type": "markdown",
   "metadata": {
    "deletable": true,
    "editable": true,
    "slideshow": {
     "slide_type": "fragment"
    }
   },
   "source": [
    "**1. storing vectors vs matrices**  \n",
    "**2. calculatation for many t**  \n",
    "**3. limits ($\\psi$ is $500\\times 500$ then $H$ is $250000\\times 250000 = 62.5 \\cdot 10^{9}$** )  \n",
    "**4. this vs calculating $e^{-iHt}$**  \n",
    "**5. boundary conditions **"
   ]
  },
  {
   "cell_type": "markdown",
   "metadata": {
    "deletable": true,
    "editable": true,
    "slideshow": {
     "slide_type": "slide"
    }
   },
   "source": [
    "# Modeling the problem"
   ]
  },
  {
   "cell_type": "markdown",
   "metadata": {
    "deletable": true,
    "editable": true,
    "slideshow": {
     "slide_type": "fragment"
    }
   },
   "source": [
    "<img src='plots/grid.png'>"
   ]
  },
  {
   "cell_type": "markdown",
   "metadata": {
    "deletable": true,
    "editable": true,
    "slideshow": {
     "slide_type": "slide"
    }
   },
   "source": [
    "$$ H = -\\frac{1}{2m}\\Delta +V$$\n",
    "\n",
    "Finite elements method for the Laplace: \n",
    "\\begin{equation}\n",
    "\\Delta = \\frac{\\partial ^2}{\\partial x^2} + \\frac{\\partial ^2}{\\partial y^2}\n",
    "\\end{equation}\n",
    "\n",
    "\\begin{equation}\n",
    "\\frac{\\partial u}{\\partial x} = \\frac{u_{i+1/2,j} - u_{i-1/2,j}}{a}\n",
    "\\end{equation}\n",
    "\n",
    "\\begin{equation}\n",
    "\\frac{\\partial^2 u}{\\partial x^2} = \\frac{\\partial}{\\partial x} \\frac{u_{i+1/2,j} - u_{i-1/2,j}}{a} = \\frac{u_{i+1,j} - u_{i,j} - (u_{i,j} - u_{i-1,j})}{a^2} = \\frac{u_{i+1,j} - 2u_{i,j} + u_{i-1,j}}{a^2}\n",
    "\\end{equation}\n",
    "\n",
    "\\begin{equation}\n",
    "\\Delta = \\frac{u_{i+1,j} + u_{i,j+1} - 4u_{i,j} + u_{i-1,j} + u_{i,j-1} }{a^2}\n",
    "\\end{equation}\n",
    "\n",
    "The potential hard wall is simple"
   ]
  },
  {
   "cell_type": "markdown",
   "metadata": {
    "deletable": true,
    "editable": true,
    "slideshow": {
     "slide_type": "slide"
    }
   },
   "source": [
    "# Sparse matrix\n",
    "\n",
    "- storage\n",
    "- multiplication\n",
    "\n",
    "- dictionary of keys {(row, column):value} <- creation\n",
    "- list of list\n",
    "- diagonal matrices\n",
    "- (row, column, value)"
   ]
  },
  {
   "cell_type": "markdown",
   "metadata": {
    "deletable": true,
    "editable": true,
    "slideshow": {
     "slide_type": "subslide"
    }
   },
   "source": [
    "<img width=\"1056\" height=\"792\" src='plots/hami_5_5.png'>"
   ]
  },
  {
   "cell_type": "markdown",
   "metadata": {
    "deletable": true,
    "editable": true,
    "slideshow": {
     "slide_type": "subslide"
    }
   },
   "source": [
    "<img width=\"1056\" height=\"792\" src='plots/hami_10_10.png'>\n",
    "\n",
    "$$n^2 \\to 5n$$"
   ]
  },
  {
   "cell_type": "markdown",
   "metadata": {
    "deletable": true,
    "editable": true,
    "slideshow": {
     "slide_type": "slide"
    }
   },
   "source": [
    "# The simulation\n",
    "\n",
    "<img width=\"1056\" height=\"792\" src='plots/flowchart.png'>"
   ]
  },
  {
   "cell_type": "markdown",
   "metadata": {
    "deletable": true,
    "editable": true,
    "slideshow": {
     "slide_type": "slide"
    }
   },
   "source": [
    "# Spreading a wave"
   ]
  },
  {
   "cell_type": "markdown",
   "metadata": {
    "deletable": true,
    "editable": true,
    "slideshow": {
     "slide_type": "fragment"
    }
   },
   "source": [
    "### Spreading of a Gaussian wave packet\n",
    "\n",
    "$$ \\Psi(\\mathbf{r},0) = e^{-\\mathbf{r}\\cdot\\mathbf{r}/ 2a}$$"
   ]
  },
  {
   "cell_type": "markdown",
   "metadata": {
    "deletable": true,
    "editable": true,
    "slideshow": {
     "slide_type": "fragment"
    }
   },
   "source": [
    "$$\\Psi(\\mathbf{k},0) = (2\\pi a)^{3/2} e^{- a \\mathbf{k}\\cdot\\mathbf{k}/2} $$"
   ]
  },
  {
   "cell_type": "markdown",
   "metadata": {
    "deletable": true,
    "editable": true,
    "slideshow": {
     "slide_type": "fragment"
    }
   },
   "source": [
    "$$\\begin{align}\\Psi(\\mathbf{k}, t) &= (2\\pi a)^{3/2} e^{- a \\mathbf{k}\\cdot\\mathbf{k}/2 }e^{-iEt/\\hbar} \\\\\n",
    "&= (2\\pi a)^{3/2} e^{- a \\mathbf{k}\\cdot\\mathbf{k}/2 - i(\\hbar^2 \\mathbf{k}\\cdot\\mathbf{k}/2m)t/\\hbar} \\\\\n",
    "&= (2\\pi a)^{3/2} e^{-(a+i\\hbar t/m)\\mathbf{k}\\cdot\\mathbf{k}/2}\\end{align} $$"
   ]
  },
  {
   "cell_type": "markdown",
   "metadata": {
    "deletable": true,
    "editable": true,
    "slideshow": {
     "slide_type": "fragment"
    }
   },
   "source": [
    "$$ \\Psi(\\mathbf{r},t) = \\left({a \\over a + i\\hbar t/m}\\right)^{3/2} e^{- {\\mathbf{r}\\cdot\\mathbf{r}\\over 2(a + i\\hbar t/m)} }$$"
   ]
  },
  {
   "cell_type": "markdown",
   "metadata": {
    "deletable": true,
    "editable": true,
    "slideshow": {
     "slide_type": "fragment"
    }
   },
   "source": [
    "$$P(r)=  |\\Psi|^2 = \\Psi^*\\Psi = \\left( {a \\over \\sqrt{a^2+(\\hbar t/m)^2} }\\right)^3  ~ e^{-{\\mathbf{r}\\cdot\\mathbf{r} a \\over a^2 + (\\hbar t/m)^2}}$$"
   ]
  },
  {
   "cell_type": "markdown",
   "metadata": {
    "deletable": true,
    "editable": true,
    "slideshow": {
     "slide_type": "slide"
    }
   },
   "source": [
    "# 2 D results\n",
    "\n",
    "<img width=\"1056\" height=\"792\" src=\"plots/2D_spread.gif\">"
   ]
  },
  {
   "cell_type": "markdown",
   "metadata": {
    "deletable": true,
    "editable": true,
    "slideshow": {
     "slide_type": "slide"
    }
   },
   "source": [
    "# 1D case ( 2D with y=0)\n",
    "\n",
    "<img width=\"1056\" height=\"792\" src=\"plots/1D_spread.gif\">"
   ]
  },
  {
   "cell_type": "markdown",
   "metadata": {
    "deletable": true,
    "editable": true,
    "slideshow": {
     "slide_type": "slide"
    }
   },
   "source": [
    "# Time calibration \n",
    "## t=[0, 0.01, 0.02, 0.03, 0.05, 0.07, 0.1]\n",
    "<img width=\"1056\" height=\"792\" src=\"plots/1D_spread_analytic.gif\">"
   ]
  },
  {
   "cell_type": "markdown",
   "metadata": {
    "deletable": true,
    "editable": true,
    "slideshow": {
     "slide_type": "slide"
    }
   },
   "source": [
    "# Benchmarking: my code's verbose output 201 x 201 grid, 60 plots:   \n",
    "\n",
    "\n",
    "|21:00:21 | Initializing Psi\n",
    "|-|-|\n",
    "|21:00:21 | Setting up the Hamiltoni\n",
    "|21:00:21 | Applying potential wall...\n",
    "|21:00:21 | Potential wall parameters:{'yMax': 120, 'yMin': 80, 'xMax': 130, 'name': 'rectangle', 'xMin': 80}\n",
    "|21:00:21 | Potential wall applied.\n",
    "|21:00:27 | Hamiltoni finished.\n",
    "|21:00:28 | Started calculating eigenvalue...\n",
    "|21:00:54 | Finished eigenvalue.\n",
    "|21:00:54 | Started calculating T_m(H)psi> ...\n",
    "|21:00:55 | Finished calculating T_m(H)psi>\n",
    "|21:00:55 | Started plotting"
   ]
  },
  {
   "cell_type": "markdown",
   "metadata": {
    "deletable": true,
    "editable": true,
    "slideshow": {
     "slide_type": "slide"
    }
   },
   "source": [
    "# Calculating largest eigenvalue\n",
    "\n",
    "- time varies"
   ]
  },
  {
   "cell_type": "markdown",
   "metadata": {
    "deletable": true,
    "editable": true,
    "slideshow": {
     "slide_type": "slide"
    }
   },
   "source": [
    "# Rectangular potential\n",
    "<img width=\"1056\" height=\"792\" src=\"plots/rectangular.gif\">"
   ]
  },
  {
   "cell_type": "markdown",
   "metadata": {
    "deletable": true,
    "editable": true,
    "slideshow": {
     "slide_type": "slide"
    }
   },
   "source": [
    "# Cirle potetntial\n",
    "<img width=\"1056\" height=\"792\" src=\"plots/circle.gif\">"
   ]
  },
  {
   "cell_type": "markdown",
   "metadata": {
    "deletable": true,
    "editable": true,
    "slideshow": {
     "slide_type": "slide"
    }
   },
   "source": [
    "$e^{-ikx}$ where $x \\in \\mathbb{Z}$  \n",
    "Be careful! $22=\\pi \\cdot 7.0028... \\to$ almost zero complex phase. Makes sense only in $[0;2\\pi]$.\n",
    "\n",
    "<img width=\"1056\" height=\"792\" src=\"plots/circle_k.gif\">"
   ]
  },
  {
   "cell_type": "markdown",
   "metadata": {
    "deletable": true,
    "editable": true,
    "slideshow": {
     "slide_type": "slide"
    }
   },
   "source": [
    "<img width=\"1056\" height=\"792\" src=\"plots/circle_r.gif\">"
   ]
  },
  {
   "cell_type": "markdown",
   "metadata": {
    "deletable": true,
    "editable": true,
    "slideshow": {
     "slide_type": "slide"
    }
   },
   "source": [
    "<img width=\"1056\" height=\"792\" src=\"plots/circle_r_k.gif\">"
   ]
  },
  {
   "cell_type": "markdown",
   "metadata": {
    "deletable": true,
    "editable": true,
    "slideshow": {
     "slide_type": "slide"
    }
   },
   "source": [
    "<img width=\"1056\" height=\"792\" src=\"plots/analytic_circle.png\">"
   ]
  },
  {
   "cell_type": "markdown",
   "metadata": {
    "deletable": true,
    "editable": true,
    "slideshow": {
     "slide_type": "slide"
    }
   },
   "source": [
    "# Double slit\n",
    "\n",
    "<img width=\"1056\" height=\"792\" src=\"plots/double_slit.gif\">"
   ]
  },
  {
   "cell_type": "markdown",
   "metadata": {
    "deletable": true,
    "editable": true,
    "slideshow": {
     "slide_type": "slide"
    }
   },
   "source": [
    "<img width=\"1056\" height=\"792\" src=\"plots/double_slit2.gif\">"
   ]
  },
  {
   "cell_type": "markdown",
   "metadata": {
    "deletable": true,
    "editable": true,
    "slideshow": {
     "slide_type": "slide"
    }
   },
   "source": [
    "<img width=\"1056\" height=\"792\" src=\"plots/double_slit3.gif\">"
   ]
  },
  {
   "cell_type": "markdown",
   "metadata": {
    "deletable": true,
    "editable": true,
    "slideshow": {
     "slide_type": "slide"
    }
   },
   "source": [
    "# Limitations / possible improvements"
   ]
  },
  {
   "cell_type": "markdown",
   "metadata": {
    "collapsed": true,
    "deletable": true,
    "editable": true,
    "slideshow": {
     "slide_type": "fragment"
    }
   },
   "source": [
    "- boundary conditions\n",
    "\n",
    "<img width=\"1056\" height=\"792\" src=\"plots/log_plot.gif\">"
   ]
  },
  {
   "cell_type": "markdown",
   "metadata": {
    "deletable": true,
    "editable": true,
    "slideshow": {
     "slide_type": "subslide"
    }
   },
   "source": [
    "<img width=\"1056\" height=\"792\" src=\"plots/log_plot2.gif\">"
   ]
  }
 ],
 "metadata": {
  "celltoolbar": "Slideshow",
  "kernelspec": {
   "display_name": "Python 3",
   "language": "python",
   "name": "python3"
  },
  "language_info": {
   "codemirror_mode": {
    "name": "ipython",
    "version": 3
   },
   "file_extension": ".py",
   "mimetype": "text/x-python",
   "name": "python",
   "nbconvert_exporter": "python",
   "pygments_lexer": "ipython3",
   "version": "3.5.2+"
  }
 },
 "nbformat": 4,
 "nbformat_minor": 2
}
